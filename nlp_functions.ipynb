{
 "cells": [
  {
   "cell_type": "markdown",
   "metadata": {},
   "source": [
    "# Natural Language “Pre” processing: useful functions for the first steps"
   ]
  },
  {
   "cell_type": "markdown",
   "metadata": {},
   "source": [
    "Natural Language Processing (or NLP) is one of the top trending topics on Machine and Deep Learning nowadays, with applications such as sentiment analysis, chatbots and audio recognition. Dispatch the complexity of these more advanced projects and models, Data Scientists spend more time raggling with messy data, data cleaning and collecting. In that spirit the aim of this post is to share some useful lines of code that can be applied to the first steps of a NLP project. \n",
    "\n",
    "We are going to develop a function that takes as input a non processed text column of a pandas data frame and produces as output a clean list of texts ready for useful descriptive analysis. We are also going to show how this is converted into numeric format for Machine Learning models. \n"
   ]
  },
  {
   "cell_type": "markdown",
   "metadata": {},
   "source": [
    "### 1. Importing and inspecting the data"
   ]
  },
  {
   "cell_type": "markdown",
   "metadata": {},
   "source": [
    "We are going to work in Python, importing the next libraries (if you don’t have them downloaded, you can install them in Terminal with pip install as usual):"
   ]
  },
  {
   "cell_type": "code",
   "execution_count": 1,
   "metadata": {},
   "outputs": [],
   "source": [
    "import numpy as np\n",
    "import pandas as pd\n",
    "from bs4 import BeautifulSoup\n",
    "import re\n",
    "import nltk\n",
    "from nltk.corpus import stopwords\n",
    "from nltk.tokenize import word_tokenize\n",
    "from nltk.stem import WordNetLemmatizer"
   ]
  },
  {
   "cell_type": "code",
   "execution_count": null,
   "metadata": {},
   "outputs": [],
   "source": [
    "print(np.__version__)"
   ]
  },
  {
   "cell_type": "markdown",
   "metadata": {},
   "source": [
    "It also could be needed to specify the next commands to download ‘stopwords’ and ‘wordnet’."
   ]
  },
  {
   "cell_type": "code",
   "execution_count": 3,
   "metadata": {},
   "outputs": [
    {
     "name": "stderr",
     "output_type": "stream",
     "text": [
      "[nltk_data] Downloading package stopwords to\n",
      "[nltk_data]     C:\\Users\\Ignacio\\AppData\\Roaming\\nltk_data...\n",
      "[nltk_data]   Package stopwords is already up-to-date!\n",
      "[nltk_data] Downloading package wordnet to\n",
      "[nltk_data]     C:\\Users\\Ignacio\\AppData\\Roaming\\nltk_data...\n",
      "[nltk_data]   Package wordnet is already up-to-date!\n"
     ]
    },
    {
     "data": {
      "text/plain": [
       "True"
      ]
     },
     "execution_count": 3,
     "metadata": {},
     "output_type": "execute_result"
    }
   ],
   "source": [
    "nltk.download('stopwords')\n",
    "nltk.download('wordnet')"
   ]
  },
  {
   "cell_type": "markdown",
   "metadata": {},
   "source": [
    "For input we can import a csv file, this needs to have a string variable, the one that we are going to process.\n",
    "\n",
    "For this example and for tutorial purposes we have an extremely simple database with 3 variables: ‘Id’, ‘text’ and ‘result’, and only 4 rows. But the same function can be extended to any length. Thinking in a simple machine model like a logistic regression, ‘result’ would be the target variable (1 - positive, 0 - negative) and ‘text’ the regressor in natural language format which we are interested in. This is the typical example of a movie´s review database.\n"
   ]
  },
  {
   "cell_type": "code",
   "execution_count": 2,
   "metadata": {},
   "outputs": [
    {
     "name": "stdout",
     "output_type": "stream",
     "text": [
      "   Id                                        text  result\n",
      "0   1                 I think it was a good movie       1\n",
      "1   2    The movie was really bad total deception       0\n",
      "2   3      I think that the movie was really good       1\n",
      "3   4   The movie was horrible! Really really bad       0\n"
     ]
    }
   ],
   "source": [
    "train =pd.read_csv(\"train_data.csv\")\n",
    "print(train)"
   ]
  },
  {
   "cell_type": "markdown",
   "metadata": {},
   "source": [
    "### 2. Appling the preprocessing function for NLP"
   ]
  },
  {
   "cell_type": "markdown",
   "metadata": {},
   "source": [
    "So now we are ready to jump right to the function. It has 7 steps commented in hashtag. If you don't feel comfortable you can pass each line of code by one and print every step to see the transformation of the raw text."
   ]
  },
  {
   "cell_type": "code",
   "execution_count": 4,
   "metadata": {},
   "outputs": [],
   "source": [
    "def text_to_words( raw_text ):\n",
    "    # 1. Remove punctuation, tags, markups, numbers and stop words\n",
    "    beautiful_text = BeautifulSoup(raw_text).get_text() \n",
    "    #\n",
    "    # 2. Remove non-letters        \n",
    "    letters_only = re.sub(\"[^a-zA-Z]\", \" \", beautiful_text) \n",
    "    #\n",
    "    # 3. Convert to lower case, split into individual words\n",
    "    words = letters_only.lower().split()                             \n",
    "    #\n",
    "    # 4. In Python, searching a set is much faster than searching a list, so convert the stop words to a set\n",
    "    stops = set(stopwords.words(\"english\"))                  \n",
    "    # \n",
    "    # 5. Remove stop words\n",
    "    meaningful_words = [w for w in words if not w in stops]   \n",
    "    #  Lemmatize\n",
    "    lemma =[]\n",
    "    lemmatizer = WordNetLemmatizer()\n",
    "    for word in meaningful_words:\n",
    "        lemma_word = lemmatizer.lemmatize(word, pos = \"v\")\n",
    "        lemma.append(lemma_word)\n",
    "    \n",
    "    # 6. Join the words back into one string separated by space, and return the result.\n",
    "    return( \" \".join( lemma ))\n",
    "    \n"
   ]
  },
  {
   "cell_type": "markdown",
   "metadata": {},
   "source": [
    "Let's see what this function does: it first takes a raw text in a list format and removes all kinds of punctuation, then removes all non letters characters and lowercases every word, then it removes english stop words, tokenizes, lemmatize and gives you back a variable with clean text.\n",
    "\n",
    "We are not going to go deep on what these steps are, because each of them could be a single post. But in a quick explain: it first removes punctuation, non letters, and lowercases; the stopwords algorithm is developed to identify and remove common language words as “I”, “we”, “not”, etc, that are frequent in any english text; tokenization is a analytical pre step that separates hole strings into single units or tokens, in this case each word is a token; finally lemmatization is a process of reducing words to its minimal expression (for example “running”, “runs”, “runner”, are all transformed to “run”). \n",
    "\n",
    "All these steps aim for removing redundancy not useful for analysis, since a shorter and meaningful text is more useful in descriptive analysis and tends to perform better on machine learning algorithms.\n",
    "\n",
    "Now we can see the utility of our function by passing any row of the text column:"
   ]
  },
  {
   "cell_type": "code",
   "execution_count": 5,
   "metadata": {},
   "outputs": [
    {
     "name": "stdout",
     "output_type": "stream",
     "text": [
      "think good movie\n"
     ]
    }
   ],
   "source": [
    "clean_text = text_to_words( train[\"text\"][0] )\n",
    "print(clean_text)"
   ]
  },
  {
   "cell_type": "markdown",
   "metadata": {},
   "source": [
    "And with the next loop we can also clean in one step all the rows of our column variable."
   ]
  },
  {
   "cell_type": "code",
   "execution_count": 8,
   "metadata": {},
   "outputs": [],
   "source": [
    "num_data_rows = train[\"text\"].size\n",
    "\n",
    "clean_train_rows = []\n",
    "\n",
    "for i in range(0, num_data_rows):\n",
    "                  if ( (i+1)%1000 == 0 ):\n",
    "                          print( \"Review %d of %d\\n\" % (i +1, num_data_rows)  ) #print status of the loop\n",
    "                  clean_train_rows.append( text_to_words( train[\"text\"][i] ) ) \n",
    "                "
   ]
  },
  {
   "cell_type": "markdown",
   "metadata": {},
   "source": [
    "We can print now any row and see how it has been cleaned and ready for analysis"
   ]
  },
  {
   "cell_type": "code",
   "execution_count": 11,
   "metadata": {},
   "outputs": [
    {
     "name": "stdout",
     "output_type": "stream",
     "text": [
      "think good movie\n",
      "movie really bad total deception\n",
      "think movie really good\n",
      "movie horrible really really bad\n"
     ]
    }
   ],
   "source": [
    "print(clean_train_rows[0])\n",
    "print(clean_train_rows[1])\n",
    "print(clean_train_rows[2])\n",
    "print(clean_train_rows[3])"
   ]
  },
  {
   "cell_type": "markdown",
   "metadata": {},
   "source": [
    "At this moment we are able to make a wide variety of descriptive analysis of the processed text. This post covers one option, a cloud of words."
   ]
  },
  {
   "cell_type": "markdown",
   "metadata": {},
   "source": [
    "### 3. A descriptive analysis: WordCloud"
   ]
  },
  {
   "cell_type": "markdown",
   "metadata": {},
   "source": [
    "With the next commands we are going to first append our clean text string to the original dataframe, then split the data into positive and negative results, and finally generate two arrays for each result."
   ]
  },
  {
   "cell_type": "code",
   "execution_count": 13,
   "metadata": {},
   "outputs": [],
   "source": [
    "# Make a word cloud for a natural language row of the 'clean_train_rows' list\n",
    "\n",
    "from wordcloud import WordCloud\n",
    "import matplotlib.pyplot as plt\n",
    "\n",
    "# Append the clean text to de data frame and separate in good and bad results\n",
    "train[\"text_clean\"] = clean_train_rows\n",
    "\n",
    "positive_result = train[train[\"result\"] == 1]\n",
    "negative_result = train[train[\"result\"] == 0]\n",
    "\n",
    "all_positive_clean = \" \".join( positive_result[\"text_clean\"] )\n",
    "all_negative_clean = \" \".join( negative_result[\"text_clean\"] )"
   ]
  },
  {
   "cell_type": "markdown",
   "metadata": {},
   "source": [
    "Notice that ‘all_positive_clean’ and ‘all_negative_clean’ are both strings with all the positive and negative texts combined. We can now generate two word clouds, one with all the positive comments and the other with all the negative ones of the whole database."
   ]
  },
  {
   "cell_type": "code",
   "execution_count": 14,
   "metadata": {},
   "outputs": [
    {
     "data": {
      "image/png": "[encoded data removed]",
      "text/plain": [
       "<Figure size 432x288 with 1 Axes>"
      ]
     },
     "metadata": {
      "needs_background": "light"
     },
     "output_type": "display_data"
    },
    {
     "data": {
      "text/plain": [
       "<Figure size 432x288 with 0 Axes>"
      ]
     },
     "metadata": {},
     "output_type": "display_data"
    }
   ],
   "source": [
    "# Print word cloud for good results\n",
    "wordcloud1 = WordCloud()\n",
    "wordcloud1.generate(all_positive_clean)\n",
    "wordcloud1.to_image()\n",
    "\n",
    "plt.imshow(wordcloud1)\n",
    "plt.axis(\"off\")\n",
    "plt.show()\n",
    "wordcloud1.to_file(\"wordcloud1.png\")\n",
    "plt.clf()"
   ]
  },
  {
   "cell_type": "code",
   "execution_count": 15,
   "metadata": {},
   "outputs": [
    {
     "data": {
      "image/png": "[encoded data removed]",
      "text/plain": [
       "<Figure size 432x288 with 1 Axes>"
      ]
     },
     "metadata": {
      "needs_background": "light"
     },
     "output_type": "display_data"
    },
    {
     "data": {
      "text/plain": [
       "<Figure size 432x288 with 0 Axes>"
      ]
     },
     "metadata": {},
     "output_type": "display_data"
    }
   ],
   "source": [
    "# Print word cloud for bad results\n",
    "wordcloud0 = WordCloud()\n",
    "wordcloud0.generate(all_negative_clean)\n",
    "wordcloud0.to_image()\n",
    "\n",
    "plt.imshow(wordcloud0)\n",
    "plt.axis(\"off\")\n",
    "plt.show()\n",
    "wordcloud0.to_file(\"wordcloud2.png\")\n",
    "plt.clf()"
   ]
  },
  {
   "cell_type": "markdown",
   "metadata": {},
   "source": [
    "This data set is only 4 rows with few text just for pedagogical purposes, but if the same functions are used in real databases you could see at this point the utility of all our code. A visual insight in this case is that the negative reviews tend to use more emphatic words, maybe as a way of manifesting a state of indignation. As a data analyst you can use this kind of insight to discover common patterns in positive and negative reviews."
   ]
  },
  {
   "cell_type": "markdown",
   "metadata": {},
   "source": [
    "### 4. Convert it into numeric! CountVectorizer"
   ]
  },
  {
   "cell_type": "markdown",
   "metadata": {},
   "source": [
    "To end this post, we are going to dedicate a few lines to the CountVectorizer function from sklearn library. Scikit-learn as a widely useful machine learning library has its own already developed functions that can do a lot of the cleaning job automatically, this is the case of CountVectorizer. Although the goal of this post is to understand each step and to appreciate the flexibility of making our own functions, we are going to use CountVectorizer to compare the results.\n",
    "\n",
    "Lets apply the default CountVectorizer function on the clean text we created and inspect the output.\n"
   ]
  },
  {
   "cell_type": "code",
   "execution_count": 16,
   "metadata": {},
   "outputs": [
    {
     "name": "stdout",
     "output_type": "stream",
     "text": [
      "  (0, 6)\t1\n",
      "  (0, 2)\t1\n",
      "  (0, 4)\t1\n",
      "  (1, 4)\t1\n",
      "  (1, 5)\t1\n",
      "  (1, 0)\t1\n",
      "  (1, 7)\t1\n",
      "  (1, 1)\t1\n",
      "  (2, 6)\t1\n",
      "  (2, 2)\t1\n",
      "  (2, 4)\t1\n",
      "  (2, 5)\t1\n",
      "  (3, 4)\t1\n",
      "  (3, 5)\t2\n",
      "  (3, 0)\t1\n",
      "  (3, 3)\t1\n"
     ]
    }
   ],
   "source": [
    "from sklearn.feature_extraction.text import CountVectorizer\n",
    "\n",
    "# list converted to numeric features\n",
    "vectorizer = CountVectorizer()\n",
    "matrix = vectorizer.fit_transform(clean_train_rows)\n",
    "matrix.shape\n",
    "print(matrix)"
   ]
  },
  {
   "cell_type": "markdown",
   "metadata": {},
   "source": [
    "Now we face a totally different format of the data, what happened? Machine Learning models can only deal with numerical data, so the words needed to be transformed in some way. But it is not intuitive for humans to understand some of these formats, moreover in large datasets.\n",
    "\n",
    "What Scikit-learn is doing under the hood is taking all the words in the list and converting them into a matrix in which each line of the output shows us: “ (‘row’, ‘assigned number of the word’) ‘repetition of the word in the row’ ”.\n",
    "\n",
    "If it is still too abstract to understand,  let's take advantage of our super tiny dataset to see what Scikit-learn is doing to the data. The next lines of code convert the CountVectorizer matrix to a data frame with each word as a column name and each row as the original rows indexes (you can´t do this if your data extends more than a few words, that is real life scenarios)."
   ]
  },
  {
   "cell_type": "code",
   "execution_count": 17,
   "metadata": {},
   "outputs": [
    {
     "name": "stdout",
     "output_type": "stream",
     "text": [
      "   bad  deception  good  horrible  movie  really  think  total\n",
      "0    0          0     1         0      1       0      1      0\n",
      "1    1          1     0         0      1       1      0      1\n",
      "2    0          0     1         0      1       1      1      0\n",
      "3    1          0     0         1      1       2      0      0\n"
     ]
    }
   ],
   "source": [
    "matrix_df = pd.DataFrame(matrix.toarray())\n",
    "matrix_df.columns = vectorizer.get_feature_names()\n",
    "matrix_df.shape\n",
    "print(matrix_df)"
   ]
  },
  {
   "cell_type": "markdown",
   "metadata": {},
   "source": [
    "Now we can see and understand how the process of converting words into numbers is achieved by the algorithms, and here we would end our post. We had seen how to celan, handle, inspect descriptive insights and dive in the first steps of a machine learning process.\n",
    "\n",
    "We decided not to go further by now, but there are a lot more preprocessing steps that achieve more accurate results in predictions. For example the Tfidf vectorization is useful for removing words that appear in the whole corpus (all the rows of the data). \n",
    "\n",
    "The post aimed to scratch the surface of some basic gadgets of a NLP Machine Learning toolbox and develop useful functions for any dataframe. If you are interested in more you could check out Scikit-learn documentation and also try your own functions.\n"
   ]
  },
  {
   "cell_type": "markdown",
   "metadata": {},
   "source": [
    "Documentation:\n",
    "\n",
    "https://www.kaggle.com/c/word2vec-nlp-tutorial\n",
    "\n",
    "https://learn.datacamp.com/projects/word-frequency-classic-novels\n",
    "\n",
    "https://learn.datacamp.com/projects/158\n",
    "\n",
    "https://www.datacamp.com/community/tutorials/stemming-lemmatization-python"
   ]
  }
 ],
 "metadata": {
  "kernelspec": {
   "display_name": "Python 3",
   "language": "python",
   "name": "python3"
  },
  "language_info": {
   "codemirror_mode": {
    "name": "ipython",
    "version": 3
   },
   "file_extension": ".py",
   "mimetype": "text/x-python",
   "name": "python",
   "nbconvert_exporter": "python",
   "pygments_lexer": "ipython3",
   "version": "3.7.3"
  }
 },
 "nbformat": 4,
 "nbformat_minor": 4
}
